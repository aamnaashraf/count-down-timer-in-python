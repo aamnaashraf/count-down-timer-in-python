{
  "nbformat": 4,
  "nbformat_minor": 0,
  "metadata": {
    "colab": {
      "provenance": [],
      "authorship_tag": "ABX9TyNS5KeXLDJeVNIN6hZeKLj2",
      "include_colab_link": true
    },
    "kernelspec": {
      "name": "python3",
      "display_name": "Python 3"
    },
    "language_info": {
      "name": "python"
    }
  },
  "cells": [
    {
      "cell_type": "markdown",
      "metadata": {
        "id": "view-in-github",
        "colab_type": "text"
      },
      "source": [
        "<a href=\"https://colab.research.google.com/github/aamnaashraf/count-down-timer-in-python/blob/main/Countdown_timer.ipynb\" target=\"_parent\"><img src=\"https://colab.research.google.com/assets/colab-badge.svg\" alt=\"Open In Colab\"/></a>"
      ]
    },
    {
      "cell_type": "code",
      "source": [
        "!pip install colorama"
      ],
      "metadata": {
        "colab": {
          "base_uri": "https://localhost:8080/"
        },
        "id": "Egv_gfXJMriR",
        "outputId": "bdc3ef12-db96-4e2f-9095-11bd4f3e290a"
      },
      "execution_count": 6,
      "outputs": [
        {
          "output_type": "stream",
          "name": "stdout",
          "text": [
            "Collecting colorama\n",
            "  Downloading colorama-0.4.6-py2.py3-none-any.whl.metadata (17 kB)\n",
            "Downloading colorama-0.4.6-py2.py3-none-any.whl (25 kB)\n",
            "Installing collected packages: colorama\n",
            "Successfully installed colorama-0.4.6\n"
          ]
        }
      ]
    },
    {
      "cell_type": "code",
      "source": [
        "import time\n",
        "import sys\n",
        "from colorama import Fore, Style, init\n",
        "init()\n",
        "def countdown_timer(seconds):\n",
        "    try:\n",
        "        while seconds:\n",
        "            mins, secs = divmod(seconds, 60)\n",
        "            timer = f\"{mins:02}:{secs:02}\"\n",
        "            progress = (1 - (seconds / total_time)) * 20\n",
        "            progress_bar = \"[\" + \"=\" * int(progress) + \" \" * (20 - int(progress)) + \"]\"\n",
        "            print(Fore.GREEN + f\"Time Left: {timer} \" + Fore.YELLOW + progress_bar + Style.RESET_ALL, end=\"\\r\")\n",
        "            time.sleep(1)\n",
        "            seconds -= 1\n",
        "            if seconds == total_time // 2:\n",
        "                print(Fore.CYAN + \"\\nHalfway there! Keep going! 💪\" + Style.RESET_ALL)\n",
        "            elif seconds == 10:\n",
        "                print(Fore.MAGENTA + \"\\nAlmost there! Just 10 seconds left! 🚀\" + Style.RESET_ALL)\n",
        "\n",
        "        print(Fore.RED + \"\\nTime's up! 🎉\" + Style.RESET_ALL)\n",
        "    except KeyboardInterrupt:\n",
        "        print(Fore.RED + \"\\nCountdown interrupted by user. Exiting...\" + Style.RESET_ALL)\n",
        "\n",
        "if __name__ == \"__main__\":\n",
        "    try:\n",
        "        user_input = input(\"Enter the number of seconds for the countdown: \")\n",
        "        total_time = int(user_input)\n",
        "        print(Fore.BLUE + f\"Starting countdown for {total_time} seconds...\" + Style.RESET_ALL)\n",
        "        countdown_timer(total_time)\n",
        "    except ValueError:\n",
        "        print(Fore.RED + \"Invalid input! Please enter a valid number.\" + Style.RESET_ALL)"
      ],
      "metadata": {
        "colab": {
          "base_uri": "https://localhost:8080/"
        },
        "id": "3iUC_BkhM7Q2",
        "outputId": "286bbe4a-1b85-4012-a920-c72dd918ad2a"
      },
      "execution_count": 7,
      "outputs": [
        {
          "output_type": "stream",
          "name": "stdout",
          "text": [
            "Enter the number of seconds for the countdown: 15\n",
            "Starting countdown for 15 seconds...\n",
            "\n",
            "Almost there! Just 10 seconds left! 🚀\n",
            "\n",
            "Halfway there! Keep going! 💪\n",
            "\n",
            "Time's up! 🎉\n"
          ]
        }
      ]
    }
  ]
}